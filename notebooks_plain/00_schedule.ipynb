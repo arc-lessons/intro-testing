{
 "cells": [
  {
   "cell_type": "markdown",
   "metadata": {
    "slideshow": {
     "slide_type": "slide"
    }
   },
   "source": [
    "# Introduction to Testing (and Continuous Integration)\n",
    "\n",
    "In this lesson we introduce the concept of testing, how it can help to improve the accuracy of your code and how to implement it efficiently using a Python library called `pytest`.\n",
    "\n",
    "Though some of this testing functionality is specific to Python, the approach and principles are general and libraries/frameworks exist in most languages."
   ]
  },
  {
   "cell_type": "markdown",
   "metadata": {
    "slideshow": {
     "slide_type": "slide"
    }
   },
   "source": [
    "## Prerequisites\n",
    "\n",
    "In order to complete the tutorial and use the build system you should be familar with:\n",
    "- Basic understanding of Python variables and functions are a necessary prerequisite.\n",
    "- Some previous experience with the shell is expected."
   ]
  },
  {
   "cell_type": "markdown",
   "metadata": {
    "slideshow": {
     "slide_type": "slide"
    }
   },
   "source": [
    "## Schedule\n",
    "Approximate timings for the lesson:\n",
    "\n",
    "| Time | Episode | Description |\n",
    "|---|---|---|\n",
    "| 0:00 | [Setup](./00_setup.ipynb) | Setup |\n",
    "| 0:05 | [Introduction](./01_episode.ipynb) | Why test? |\n",
    "| 0:10 | [Basics of Testing](./02_episode.ipynb) | What are tests? |\n",
    "| 0:15 | [Assertive Defensive Programming](./03_episode.ipynb) | How can we compare observed and expected values? |\n",
    "| 0:30 | [Revision of Functions in Scripts](./04_episode.ipynb) | How can we put our new assertions into a scipt that we can run or import? |\n",
    "| 1:00 | [Exceptional Defensive Programming](./05_episode.ipynb) | How do I handle unusual behavior while the code runs?|\n",
    "| 1:15 | [Unit Tests](./06_episode.ipynb) | What is a unit of code? |\n",
    "| 1:30 | [Running Tests with pytest](./07_episode.ipynb) | How do I automate my tests? |\n",
    "| 1:45 | [Edge and Corner Cases](./08_episode.ipynb) | How do I catch all the possible errors? |\n",
    "| 2:05 | [Integration and Regression Tests](./09_episode.ipynb) | How do we test more than a single unit of software? |\n",
    "| 2:15 | [Continuous Integration](./10_episode.ipynb) | How can I automate running the tests on more platforms than my own? | \n",
    "| 2:40 | [Test Driven Development](./11_episode.ipynb) | How do you make testing part of the code writing process? |"
   ]
  }
 ],
 "metadata": {
  "celltoolbar": "Slideshow",
  "kernelspec": {
   "display_name": "Python 3",
   "language": "python",
   "name": "python3"
  },
  "language_info": {
   "codemirror_mode": {
    "name": "ipython",
    "version": 3
   },
   "file_extension": ".py",
   "mimetype": "text/x-python",
   "name": "python",
   "nbconvert_exporter": "python",
   "pygments_lexer": "ipython3",
   "version": "3.7.3"
  }
 },
 "nbformat": 4,
 "nbformat_minor": 2
}
