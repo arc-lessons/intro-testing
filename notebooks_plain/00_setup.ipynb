{
 "cells": [
  {
   "cell_type": "markdown",
   "metadata": {
    "slideshow": {
     "slide_type": "slide"
    }
   },
   "source": [
    "# Setup"
   ]
  },
  {
   "cell_type": "markdown",
   "metadata": {
    "slideshow": {
     "slide_type": "subslide"
    }
   },
   "source": [
    "Using [notebooks.azure.com](https://notebooks.azure.com) clone the [library](https://notebooks.azure.com/jgrant/projects/intro-testing) for this lesson.\n",
    "\n",
    "We need to prepare the library for the lesson.  First launch a terminal from notebooks (see: https://arc-lessons.github.io/intro-linux/02_linux_bath.html) and navigate to the directory containing the necessary files with:\n",
    "```bash\n",
    "% cd library/data\n",
    "```\n",
    "\n",
    "Now we need to `unzip` the files in the folder.  We can do this with:\n",
    "```bash\n",
    "% unzip testing_codes.zip\n",
    "```\n",
    "\n",
    "after doing this should end up with a new folder called code, you can verify this with `ls`.  To get started, create a new directory my_testing and change into it with:\n",
    "```bash\n",
    "% mkdir my_testing\n",
    "% cd my_testing\n",
    "```"
   ]
  },
  {
   "cell_type": "markdown",
   "metadata": {
    "slideshow": {
     "slide_type": "slide"
    }
   },
   "source": [
    "## Alternative Setup\n",
    "\n",
    "If you are not using notebooks.azure.com then in preparation for this lesson, you will need to download two zipped files and place them in the specified folder:\n",
    "\n",
    "1. Make a new folder in your working directory, the H-drive, called intro-testing.\n",
    "2. Download [testing_codes.zip](../data/testing_codes.zip) and move the file to this folder.\n",
    "3. Download [solutions.zip](../data/solutions.zip) and move the file to this folder.\n",
    "\n",
    "These files are zipped (to make it faster to download) so need to be unzipped. Open your linux terminal, e.g. `linux.bath.ac.uk` through xming, navigate to the directory containing the file you downloaded and unzip it using the following commands:\n",
    "\n",
    "```bash\n",
    "% cd intro-testing/\n",
    "% unzip testing_codes.zip\n",
    "```\n",
    "\n",
    "You should end up with a new folder called code.  To get started, create a new directory my_testing and change into it with:\n",
    "```bash\n",
    "% mkdir my_testing\n",
    "% cd my_testing\n",
    "```\n",
    "\n",
    "We will be using the IPython interpreter for this lesson, on linux.bath.ac.uk this is launched by typing the command:\n",
    "\n",
    "```bash\n",
    "% ipython3\n",
    "```\n",
    "\n",
    "This Python interpreter can be installed on your own computer using this link [install Anaconda](http://swcarpentry.github.io/workshop-template/#python). This also includes the Jupyter notebook functionality  an exciting way of producing reproducible data analysis."
   ]
  }
 ],
 "metadata": {
  "celltoolbar": "Slideshow",
  "kernelspec": {
   "display_name": "Python 3",
   "language": "python",
   "name": "python3"
  },
  "language_info": {
   "codemirror_mode": {
    "name": "ipython",
    "version": 3
   },
   "file_extension": ".py",
   "mimetype": "text/x-python",
   "name": "python",
   "nbconvert_exporter": "python",
   "pygments_lexer": "ipython3",
   "version": "3.7.3"
  }
 },
 "nbformat": 4,
 "nbformat_minor": 2
}
