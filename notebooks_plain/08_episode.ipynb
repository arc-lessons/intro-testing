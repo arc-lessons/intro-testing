{
 "cells": [
  {
   "cell_type": "markdown",
   "metadata": {
    "slideshow": {
     "slide_type": "slide"
    }
   },
   "source": [
    "# Edge and Corner Cases"
   ]
  },
  {
   "cell_type": "markdown",
   "metadata": {
    "slideshow": {
     "slide_type": "slide"
    }
   },
   "source": [
    "## Overview\n",
    "- **Teaching:** 10 min\n",
    "- **Exercises:** 10 min\n",
    "\n",
    "**Questions**\n",
    "- How do I catch all the possible errors?\n",
    "\n",
    "**Objectives**\n",
    "- Understand that edge cases are at the limit of the function’s behavior\n",
    "- Write a test for an edge case\n",
    "- Understand that corner cases are where two edge cases meet\n",
    "- Write a test for a corner case"
   ]
  },
  {
   "cell_type": "markdown",
   "metadata": {
    "slideshow": {
     "slide_type": "slide"
    }
   },
   "source": [
    "What we saw in the tests for the mean function are called *interior* tests. The precise points that we tested did not matter. The mean function should have behaved as expected when it is within the valid range."
   ]
  },
  {
   "cell_type": "markdown",
   "metadata": {
    "slideshow": {
     "slide_type": "slide"
    }
   },
   "source": [
    "## Edge Cases\n",
    "\n",
    "The situation where the test examines either the beginning or the end of a range, but not the middle, is called an **edge case**. In a simple, one-dimensional problem, the two edge cases should always be tested along with at least one internal point. This ensures that you have good *coverage* over the range of values.\n",
    "\n",
    "Anecdotally, it is important to test edges cases because this is where errors tend to arise. Qualitatively different behavior happens at boundaries. As such, they tend to have special code dedicated to them in the implementation.\n",
    "\n",
    "The exercises in this episode require you to use the `mod.py` script that you unzipped at the start of the session. Make sure that you are in the `code` directory to import the provided `mod` script."
   ]
  },
  {
   "cell_type": "markdown",
   "metadata": {
    "slideshow": {
     "slide_type": "slide"
    }
   },
   "source": [
    "## Pin: Consider the Fibonacci sequence\n",
    "Take a moment to recall everything you know about the Fibonacci sequence.\n",
    "\n",
    "The Fibonacci sequence is valid for all positive integers. To believe that a Fibonacci sequence function is accurate throughout that space, is it necessary to check every expected output value of the Fibonacci sequence? Given that the sequence is infinite, let’s hope not.\n",
    "\n",
    "Indeed, what we should probably do is test a few values within the typical scope of the function, and then test values at the limit of the function’s behavior."
   ]
  },
  {
   "cell_type": "markdown",
   "metadata": {
    "slideshow": {
     "slide_type": "slide"
    }
   },
   "source": [
    "Consider the following simple Fibonacci function:\n",
    "```python\n",
    "def fib(n):\n",
    "    if n == 0 or n == 1:\n",
    "        return 1\n",
    "    else:\n",
    "        return fib(n - 1) + fib(n - 2)\n",
    "```"
   ]
  },
  {
   "cell_type": "markdown",
   "metadata": {
    "slideshow": {
     "slide_type": "slide"
    }
   },
   "source": [
    "This function has two edge cases: zero and one. For these values of n, the `fib()` function does something special that does not apply to any other values. Such cases should be tested explicitly. A minimally sufficient test suite for this function would be:\n",
    "\n",
    "```python\n",
    "from mod import fib\n",
    "\n",
    "def test_fib0():\n",
    "    # test edge 0\n",
    "    obs = fib(0)\n",
    "    assert obs == 1\n",
    "\n",
    "def test_fib1():\n",
    "    # test edge 1\n",
    "    obs = fib(1)\n",
    "    assert obs == 1\n",
    "\n",
    "def test_fib6():\n",
    "    # test internal point\n",
    "    obs = fib(6)\n",
    "    assert obs == 13)\n",
    "```"
   ]
  },
  {
   "cell_type": "markdown",
   "metadata": {
    "slideshow": {
     "slide_type": "slide"
    }
   },
   "source": [
    "Different functions will have different edge cases. Often, you need not test for cases that are outside the valid range, unless you want to test that the function fails. In the `fib()` function negative and non-integer values are not valid inputs. Tests for these classes of numbers serve you well if you want to make sure that the function fails as expected. Indeed, we learned in the assertions section that this is actually quite a good idea."
   ]
  },
  {
   "cell_type": "markdown",
   "metadata": {
    "slideshow": {
     "slide_type": "slide"
    }
   },
   "source": [
    "## Pin: Test for Graceful Failure\n",
    "The `fib()` function should probably return the Python built-in `NotImplemented` value for negative and non-integer values.\n",
    "\n",
    "- Create a file called `test_fib.py`\n",
    "- Copy the three tests above into that file.\n",
    "- Write two new tests that check for the expected return value (`NotImplemented`) in each case (for negative input and non-integer input respectively)."
   ]
  },
  {
   "cell_type": "markdown",
   "metadata": {
    "slideshow": {
     "slide_type": "slide"
    }
   },
   "source": [
    "## Corner Cases\n",
    "When two or more edge cases are combined, it is called a corner case. If a function is parametrized by two linear and independent variables, a test that is at the extreme of both variables is in a corner. As a demonstration, consider the case of the function (sin(x) / x) * (sin(y) / y), presented here:\n",
    "```python\n",
    "import numpy as np\n",
    "\n",
    "def sinc2d(x, y):\n",
    "    if x == 0.0 and y == 0.0:\n",
    "        return 1.0\n",
    "    elif x == 0.0:\n",
    "        return np.sin(y) / y\n",
    "    elif y == 0.0:\n",
    "        return np.sin(x) / x\n",
    "    else:\n",
    "        return (np.sin(x) / x) * (np.sin(y) / y)\n",
    "```"
   ]
  },
  {
   "cell_type": "markdown",
   "metadata": {
    "slideshow": {
     "slide_type": "slide"
    }
   },
   "source": [
    "The function sin(x)/x is called the sinc() function. We know that at the point where x = 0, then sinc(x) == 1.0. In the code just shown, `sinc2d()` is a two-dimensional version of this function. When both x and y are zero, it is a corner case because it requires a special value for both variables. If either x or y but not both are zero, these are edge cases. If neither is zero, this is a regular internal point."
   ]
  },
  {
   "cell_type": "markdown",
   "metadata": {
    "slideshow": {
     "slide_type": "subslide"
    }
   },
   "source": [
    "A minimal test suite for this function would include a separate test for the each of the edge cases, and an internal point. For example:\n",
    "```python\n",
    "import numpy as np\n",
    "\n",
    "from mod import sinc2d\n",
    "\n",
    "def test_internal():\n",
    "    exp = (2.0 / np.pi) * (-2.0 / (3.0 * np.pi))\n",
    "    obs = sinc2d(np.pi / 2.0, 3.0 * np.pi / 2.0)\n",
    "    assert obs == exp\n",
    "\n",
    "def test_edge_x():\n",
    "    exp = (-2.0 / (3.0 * np.pi))\n",
    "    obs = sinc2d(0.0, 3.0 * np.pi / 2.0)\n",
    "    assert obs == exp\n",
    "\n",
    "def test_edge_y():\n",
    "    exp = (2.0 / np.pi)\n",
    "    obs = sinc2d(np.pi / 2.0, 0.0)\n",
    "    assert obs == exp\n",
    "```"
   ]
  },
  {
   "cell_type": "markdown",
   "metadata": {
    "slideshow": {
     "slide_type": "slide"
    }
   },
   "source": [
    "## Pen: Write a Corner Case\n",
    "The `sinc2d` example will also need a test for the corner case, where both x and y are 0.0.\n",
    "\n",
    "1. Insert the `sinc2d` function code (above) into a file called `mod.py`.\n",
    "2. Add the edge and internal case tests (above) to a `test_sinc2d.py` file.\n",
    "3. Invent and implement a corner case test in that file.\n",
    "4. Run all of the tests using `pytest`."
   ]
  },
  {
   "cell_type": "markdown",
   "metadata": {
    "slideshow": {
     "slide_type": "subslide"
    }
   },
   "source": [
    "Corner cases can be even trickier to find and debug than edge cases because of their increased complexity. This complexity, however, makes them even more important to explicitly test.\n",
    "\n",
    "Whether internal, edge, or corner cases, we have started to build up a classification system for the tests themselves. In the following sections, we will build this system up even more based on the role that the tests have in the software architecture."
   ]
  },
  {
   "cell_type": "markdown",
   "metadata": {
    "slideshow": {
     "slide_type": "slide"
    }
   },
   "source": [
    "## Information: Test Driven Development\n",
    "\n",
    "We will not cover ‘test driven development’ in todays lesson, but the philosophy can be understood by reversing the process we have just been through. We wrote the corner case and then created the test to check that it worked as intended. Instead we could have written the test first. When we ran the test it would then fail, creating an issue that we, or one of our colleagues could easily identify and ‘fix’.\n",
    "\n",
    "Once the test passed we would have implemented a new feature, as well as already having a test in place to validate its behaviour. A further advantage of this approach is that it helps us to consider more features that our code needs to address than if we just write for a specific purpose. This means we take a defensive approach to our programming from the start, assuming that we wil make mistakes, and that our users will try to break our code."
   ]
  },
  {
   "cell_type": "markdown",
   "metadata": {
    "slideshow": {
     "slide_type": "slide"
    }
   },
   "source": [
    "## Key Points\n",
    "- Functions often fail at the edge of their range of validity\n",
    "- Edge case tests query the limits of a function’s behavior\n",
    "- Corner cases are where two edge cases meet"
   ]
  }
 ],
 "metadata": {
  "celltoolbar": "Slideshow",
  "kernelspec": {
   "display_name": "Python 3",
   "language": "python",
   "name": "python3"
  },
  "language_info": {
   "codemirror_mode": {
    "name": "ipython",
    "version": 3
   },
   "file_extension": ".py",
   "mimetype": "text/x-python",
   "name": "python",
   "nbconvert_exporter": "python",
   "pygments_lexer": "ipython3",
   "version": "3.7.3"
  }
 },
 "nbformat": 4,
 "nbformat_minor": 2
}
