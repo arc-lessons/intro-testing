{
 "cells": [
  {
   "cell_type": "markdown",
   "metadata": {
    "slideshow": {
     "slide_type": "slide"
    }
   },
   "source": [
    "# Unit Tests"
   ]
  },
  {
   "cell_type": "markdown",
   "metadata": {
    "slideshow": {
     "slide_type": "slide"
    }
   },
   "source": [
    "## Overview\n",
    "- **Teaching:** 10 min\n",
    "- **Exercises:** 5 min\n",
    "\n",
    "**Questions**\n",
    "- What is a unit of code?\n",
    "\n",
    "**Objectives**\n",
    "- Understand that functions are the atomistic unit of software.\n",
    "- Understand that simpler units are easier to test than complex ones.\n",
    "- Understand how to write a single unit test.\n",
    "- Understand how to run a single unit test.\n",
    "- Understand how test fixtures can help write tests."
   ]
  },
  {
   "cell_type": "markdown",
   "metadata": {
    "slideshow": {
     "slide_type": "slide"
    }
   },
   "source": [
    "Unit tests are so called because they exercise the functionality of the code by interrogating individual functions and methods. Functions and methods can often be considered the atomic units of software because they are indivisible. However, what is considered to be the smallest code unit is subjective. The body of a function can be long are short, and shorter functions are arguably more unit-like than long ones.\n",
    "\n",
    "Thus what reasonably constitutes a code unit typically varies from project to project and language to language. A good guideline is that if the code cannot be made any simpler logically (you cannot split apart the addition operator) or practically (a function is self-contained and well defined), then it is a unit."
   ]
  },
  {
   "cell_type": "markdown",
   "metadata": {
    "slideshow": {
     "slide_type": "slide"
    }
   },
   "source": [
    "## Pin: Functions are Like Paragraphs\n",
    "Recall that humans can only hold a few ideas in our heads at once. Paragraphs in books, for example, become unwieldy after a few lines. Functions, generally, shouldn’t be longer than paragraphs. Robert C. Martin, the author of “Clean Code” said : “The first rule of functions is that they should be small. The second rule of functions is that they should be smaller than that.”"
   ]
  },
  {
   "cell_type": "markdown",
   "metadata": {
    "slideshow": {
     "slide_type": "slide"
    }
   },
   "source": [
    "## Pin: (Unit) Testing encourages good code design\n",
    "\n",
    "The desire to unit test code often has the effect of encouraging both the code and the tests to be as small, well-defined, and modular as possible.\n",
    "\n",
    "In Python, unit tests typically take the form of test functions that call and make assertions about methods and functions in the code base. To run these test functions, a test framework is often required to collect them together. For now, we’ll write some tests for the mean function and simply run them individually to see whether they fail. In the next session, we’ll use a test framework to collect and run them."
   ]
  },
  {
   "cell_type": "markdown",
   "metadata": {
    "slideshow": {
     "slide_type": "slide"
    }
   },
   "source": [
    "## Unit tests are just functions\n",
    "Unit tests are typically made of three pieces, some set-up, a number of assertions, and some tear-down. Set-up can be as simple as initializing the input values or as complex as creating and initializing concrete instances of a class. Ultimately, the test occurs when an assertion is made, comparing the observed and expected values. For example, let us test that our mean function successfully calculates the known value for a simple list.\n",
    "\n",
    "In a notebook run the following:\n",
    "```python\n",
    "from mean import *\n",
    "\n",
    "def test_ints():\n",
    "    num_list = [1, 2, 3, 4, 5]\n",
    "    obs = mean(num_list)\n",
    "    exp = 3.0\n",
    "    assert obs == exp\n",
    "```\n",
    "\n",
    "The test above:\n",
    "\n",
    "- sets up the input parameters (the simple list `[1, 2, 3, 4, 5]`.\n",
    "- collects the observed result\n",
    "- declares the expected result (calculated with our human brain).\n",
    "- and compares the two with an assertion.\n",
    "\n",
    "Run the test as you would any other function:\n",
    "```python\n",
    "test_ints()\n",
    "```\n",
    "\n",
    "What output do you expect to see?"
   ]
  },
  {
   "cell_type": "markdown",
   "metadata": {
    "slideshow": {
     "slide_type": "slide"
    }
   },
   "source": [
    "## Unit test suite\n",
    "\n",
    "A unit test suite is made up of many tests just like this one. A single implemented function may be tested in numerous ways.\n",
    "\n",
    "Once again, if we want to do anything useful with our tests it makes sense to put them into a file in their own right. In a file called test_mean.py, implement the following code:\n",
    "```python\n",
    "from mean import *\n",
    "\n",
    "def test_ints():\n",
    "    num_list = [1, 2, 3, 4, 5]\n",
    "    obs = mean(num_list)\n",
    "    exp = 3\n",
    "    assert obs == exp\n",
    "\n",
    "def test_zero():\n",
    "    num_list=[0,2,4,6]\n",
    "    obs = mean(num_list)\n",
    "    exp = 3\n",
    "    assert obs == exp\n",
    "\n",
    "def test_double():\n",
    "    # This one will fail in Python 2\n",
    "    num_list=[1,2,3,4]\n",
    "    obs = mean(num_list)\n",
    "    exp = 2.5\n",
    "    assert obs == exp\n",
    "\n",
    "def test_long():\n",
    "    big = 1000000\n",
    "    obs = mean(range(1,big))\n",
    "    exp = big/2.0\n",
    "    assert obs == exp\n",
    "\n",
    "def test_complex():\n",
    "    # complex numbers are an unordered field\n",
    "    # however, this does NOT mean that \n",
    "    # the arithmetic mean of complex numbers is meaningless\n",
    "    num_list = [2 + 3j, 3 + 4j, -32 - 2j]\n",
    "    obs = mean(num_list)\n",
    "    exp = NotImplemented\n",
    "    assert obs == exp\n",
    "```"
   ]
  },
  {
   "cell_type": "markdown",
   "metadata": {
    "slideshow": {
     "slide_type": "slide"
    }
   },
   "source": [
    "## Pen: Run your new tests\n",
    "\n",
    "Use a notebook to import the `test_mean` package and run each test.\n",
    "\n",
    "Note that the final `test_complex()` requires us to have implemented a `try` Exception which returns `NotImplemented`. With good documentation however we could advise the user what input the function can handle.\n",
    "\n",
    "Well, that **was** tedious."
   ]
  },
  {
   "cell_type": "markdown",
   "metadata": {
    "slideshow": {
     "slide_type": "slide"
    }
   },
   "source": [
    "## Key Points\n",
    "- Functions are the atoms of software.\n",
    "- Simpler units are easier to test than complex ones.\n",
    "- A single unit test is a function containing assertions.\n",
    "- Such a unit test is run just like any other function.\n",
    "- Running tests one at a time is pretty tedious, so we will use a framework instead."
   ]
  }
 ],
 "metadata": {
  "celltoolbar": "Slideshow",
  "kernelspec": {
   "display_name": "Python 3",
   "language": "python",
   "name": "python3"
  },
  "language_info": {
   "codemirror_mode": {
    "name": "ipython",
    "version": 3
   },
   "file_extension": ".py",
   "mimetype": "text/x-python",
   "name": "python",
   "nbconvert_exporter": "python",
   "pygments_lexer": "ipython3",
   "version": "3.7.3"
  }
 },
 "nbformat": 4,
 "nbformat_minor": 2
}
