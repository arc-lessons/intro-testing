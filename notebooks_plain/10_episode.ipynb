{
 "cells": [
  {
   "cell_type": "markdown",
   "metadata": {
    "slideshow": {
     "slide_type": "slide"
    }
   },
   "source": [
    "# Continuous Integration"
   ]
  },
  {
   "cell_type": "markdown",
   "metadata": {
    "slideshow": {
     "slide_type": "slide"
    }
   },
   "source": [
    "## Overview\n",
    "- **Teaching:** 10 min\n",
    "- **Exercises:** 0 min\n",
    "\n",
    "**Questions**\n",
    "- How can I automate running the tests on more platforms than my own?\n",
    "\n",
    "**Objectives**\n",
    "- Understand how continuous integration speeds software development\n",
    "- Understand the benefits of continuous integration\n",
    "- Implement a continuous integration server\n",
    "- Identify a few options for hosting a continuous integration server"
   ]
  },
  {
   "cell_type": "markdown",
   "metadata": {
    "slideshow": {
     "slide_type": "slide"
    }
   },
   "source": [
    "To make running the tests as easy as possible, many software development teams implement a strategy called continuous integration. As its name implies, continuous integration integrates the test suite into the development process. Every time a change is made to the repository, the continuous integration system builds and checks that code."
   ]
  },
  {
   "cell_type": "markdown",
   "metadata": {
    "slideshow": {
     "slide_type": "slide"
    }
   },
   "source": [
    "## Pin: Thought Experiment: Does your software work on your colleague’s computer?\n",
    "Imagine you developed software on a MacOSX computer. Last week, you helped your office mate build and run it on their Linux computer. You’ve made some changes since then.\n",
    "\n",
    "1. How can you be sure it will still work if they update their repository when they come back from vacation?\n",
    "2. How long will that process take?"
   ]
  },
  {
   "cell_type": "markdown",
   "metadata": {
    "slideshow": {
     "slide_type": "slide"
    }
   },
   "source": [
    "How long will that process take?\n",
    "The typical story in a research lab is that, well, you don’t know whether it will work on your colleagues’ machine until you try rebuilding it on their machine. If you have a build system, it might take a few minutes to update the repository, rebuild the code, and run the tests. If you don’t have a build system, it could take all afternoon just to see if your new changes are compatible."
   ]
  },
  {
   "cell_type": "markdown",
   "metadata": {
    "slideshow": {
     "slide_type": "slide"
    }
   },
   "source": [
    "## Let the computers do the work\n",
    "Scientists are good at creative insights, conceptual understanding, critical analysis, and consuming espresso. Computers are good at following instructions. Science would be more fun if the scientists could just give the computers the instructions and go grab an espresso.\n",
    "\n",
    "Continuous integration servers allow just that. Based on your instructions, a continuous integration server can:\n",
    "\n",
    "- check out new code from a repository\n",
    "- spin up instances of supported operating systems (i.e. various versions of OSX, Linux, Windows, etc.).\n",
    "- spin up those instances with different software versions (i.e. Python 2.7 and Python 3.0)\n",
    "- run the build and test scripts\n",
    "- check for errors\n",
    "- and report the results."
   ]
  },
  {
   "cell_type": "markdown",
   "metadata": {
    "slideshow": {
     "slide_type": "slide"
    }
   },
   "source": [
    "Since the first step the server conducts is to check out the code from a repository, we’ll need to put our code online to make use of this kind of server (unless we are able/willing to set up our own CI server)."
   ]
  },
  {
   "cell_type": "markdown",
   "metadata": {
    "slideshow": {
     "slide_type": "slide"
    }
   },
   "source": [
    "## Pen: Set up a mean git repository on GitHub\n",
    "Your `mean.py` and `test_mean.py` files can be the contents of a repository on GitHub.\n",
    "\n",
    "Go to GitHub and create a repository called mean.\n",
    "Clone that repository (git clone https://github.com:yourusername/mean)\n",
    "Copy the `mean.py` and `test_mean.py` files into the repository directory.\n",
    "Use git to add, commit, and push the two files to GitHub."
   ]
  },
  {
   "cell_type": "markdown",
   "metadata": {
    "slideshow": {
     "slide_type": "slide"
    }
   },
   "source": [
    "## Giving Instructions\n",
    "Your work on the mean function has both code and tests. Let’s copy that code into its own repository and add continuous integration to that repository."
   ]
  },
  {
   "cell_type": "markdown",
   "metadata": {
    "slideshow": {
     "slide_type": "slide"
    }
   },
   "source": [
    "## Pin: What is required?\n",
    "It doesn’t need a build system, because Python does not need to be compiled.\n",
    "\n",
    "1. What does it need?\n",
    "2. Write the names of the software dependencies in a file called `requirements.txt` and save the file.\n",
    "3. In fact, why don’t you go ahead and version control it?"
   ]
  },
  {
   "cell_type": "markdown",
   "metadata": {
    "slideshow": {
     "slide_type": "slide"
    }
   },
   "source": [
    "## Travis-CI\n",
    "Travis is a continous integration server hosting platform. It’s commonly used in Ruby development circles as well as in the scientific Python community.\n",
    "\n",
    "To use Travis, all you need is an account. It’s free so someone in your group should sign up for a Travis account. Then follow the instructions on the Travis website to connect your Travis account with GitHub.\n",
    "\n",
    "A file called `.travis.yml` in your repository will signal to Travis that you want to build and test this repository on Travis-CI. Such a file, for our purposes, is very simple:\n",
    "```yaml\n",
    "language: python\n",
    "python:\n",
    "  - \"2.6\"\n",
    "  - \"2.7\"\n",
    "  - \"3.2\"\n",
    "  - \"3.3\"\n",
    "  - \"3.4\"\n",
    "  - \"nightly\"\n",
    "# command to install dependencies\n",
    "install:\n",
    "  - \"pip install -r requirements.txt\"\n",
    "# command to run tests\n",
    "script: py.test\n",
    "```"
   ]
  },
  {
   "cell_type": "markdown",
   "metadata": {
    "slideshow": {
     "slide_type": "slide"
    }
   },
   "source": [
    "However, the exact syntax is very important, https://lint.travis-ci.org/ can be used to check for typographic errors. You can see how the Python package manager, `pip`, will use your `requirements.txt` file from the previous exercise. That `requirements.txt` file is a conventional way to list all of the python packages that we need. If we needed pytest, numpy, and pymol, the `requirements.txt` file would look like this:\n",
    "\n",
    "```bash\n",
    "numpy\n",
    "pymol\n",
    "pytest\n",
    "```"
   ]
  },
  {
   "cell_type": "markdown",
   "metadata": {
    "slideshow": {
     "slide_type": "slide"
    }
   },
   "source": [
    "## Pen: Last steps\n",
    "1. Add `.travis.yml` to your repository\n",
    "2. Commit and push it.\n",
    "3. Check the situation at your server"
   ]
  },
  {
   "cell_type": "markdown",
   "metadata": {
    "slideshow": {
     "slide_type": "slide"
    }
   },
   "source": [
    "## Continuous Integration Hosting\n",
    "We gave the example of Travis because it’s very very simple to spin up. While it is able to run many flavors of Linux, it currently doesn’t support other platforms as well. Depending on your needs, you may consider other services such as:\n",
    "\n",
    "- buildbot\n",
    "- CDash\n",
    "- Jenkins"
   ]
  },
  {
   "cell_type": "markdown",
   "metadata": {
    "slideshow": {
     "slide_type": "slide"
    }
   },
   "source": [
    "## Key Points\n",
    "- Servers exist for automatically running your tests\n",
    "- Running the tests can be triggered by a GitHub pull request\n",
    "- CI allows cross-platform build testing\n",
    "- A `.travis.yml` file configures a build on the travis-ci servers\n",
    "- Many free CI servers are available"
   ]
  }
 ],
 "metadata": {
  "celltoolbar": "Slideshow",
  "kernelspec": {
   "display_name": "Python 3",
   "language": "python",
   "name": "python3"
  },
  "language_info": {
   "codemirror_mode": {
    "name": "ipython",
    "version": 3
   },
   "file_extension": ".py",
   "mimetype": "text/x-python",
   "name": "python",
   "nbconvert_exporter": "python",
   "pygments_lexer": "ipython3",
   "version": "3.7.3"
  }
 },
 "nbformat": 4,
 "nbformat_minor": 2
}
