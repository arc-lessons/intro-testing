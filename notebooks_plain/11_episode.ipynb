{
 "cells": [
  {
   "cell_type": "markdown",
   "metadata": {
    "slideshow": {
     "slide_type": "slide"
    }
   },
   "source": [
    "# Test Driven Development"
   ]
  },
  {
   "cell_type": "markdown",
   "metadata": {
    "slideshow": {
     "slide_type": "slide"
    }
   },
   "source": [
    "## Overview\n",
    "- **Teaching:** 10 min\n",
    "- **Exercises:** 0 min\n",
    "\n",
    "**Questions**\n",
    "- How do you make testing part of the code writing process?\n",
    "\n",
    "**Objectives**\n",
    "- Learn about the benefits and drawbacks of Test Driven Development.\n",
    "- Write a test before writing the code."
   ]
  },
  {
   "cell_type": "markdown",
   "metadata": {
    "slideshow": {
     "slide_type": "slide"
    }
   },
   "source": [
    "Test-driven Development (TDD) takes the workflow of writing code and writing tests and turns it on its head. TDD is a software development process where you write the tests first. Before you write a single line of a function, you first write the test for that function.\n",
    "\n",
    "After you write a test, you are then allowed to proceed to write the function that you are testing. However, you are only supposed to implement enough of the function so that the test passes. If the function does not do what is needed, you write another test and then go back and modify the function. You repeat this process of test-then-implement until the function is completely implemented for your current needs."
   ]
  },
  {
   "cell_type": "markdown",
   "metadata": {
    "slideshow": {
     "slide_type": "slide"
    }
   },
   "source": [
    "## Pin: The Big Idea\n",
    "This design philosophy was most strongly put forth by Kent Beck in his book *Test-Driven Development: By Example*.\n",
    "\n",
    "The central claim to TDD is that at the end of the process you have an implementation that is well tested for your use case, and the process itself is more efficient. You stop when your tests pass and you do not need any more features. You do not spend any time implementing options and features on the off chance that they will prove helpful later. You get what you need when you need it, and no more. TDD is a very powerful idea, though it can be hard to follow religiously."
   ]
  },
  {
   "cell_type": "markdown",
   "metadata": {
    "slideshow": {
     "slide_type": "slide"
    }
   },
   "source": [
    "The most important takeaway from test-driven development is that the moment you start writing code, you should be considering how to test that code. The tests should be written and presented in tandem with the implementation. **Testing is too important to be an afterthought**."
   ]
  },
  {
   "cell_type": "markdown",
   "metadata": {
    "slideshow": {
     "slide_type": "slide"
    }
   },
   "source": [
    "## Pin: You do you\n",
    "Developers who practice strict TDD will tell you that it is the best thing since sliced arrays. However, do what works for you. The choice whether to pursue classic TDD is a personal decision."
   ]
  },
  {
   "cell_type": "markdown",
   "metadata": {
    "slideshow": {
     "slide_type": "slide"
    }
   },
   "source": [
    "The following example illustrates classic (if ludicrous) TDD for a standard deviation function, `std()`.\n",
    "\n",
    "To start, we write a test for computing the standard deviation from a list of numbers as follows:\n",
    "```python\n",
    "from mod import std\n",
    "\n",
    "def test_std1():\n",
    "    obs = std([0.0, 2.0])\n",
    "    exp = 1.0\n",
    "    assert obs == exp\n",
    "```"
   ]
  },
  {
   "cell_type": "markdown",
   "metadata": {
    "slideshow": {
     "slide_type": "slide"
    }
   },
   "source": [
    "Next, we write the minimal version of `std()` that will cause `test_std1()` to pass:\n",
    "```python\n",
    "def std(vals):\n",
    "    # surely this is cheating...\n",
    "    return 1.0\n",
    "```"
   ]
  },
  {
   "cell_type": "markdown",
   "metadata": {
    "slideshow": {
     "slide_type": "slide"
    }
   },
   "source": [
    "As you can see, the minimal version simply returns the expected result for the sole case that we are testing. If we only ever want to take the standard deviation of the numbers 0.0 and 2.0, or 1.0 and 3.0, and so on, then this implementation will work perfectly. If we want to branch out, then we probably need to write more robust code. However, before we can write more code, we first need to add another test or two:\n",
    "\n",
    "```python\n",
    "def test_std1():\n",
    "    obs = std([0.0, 2.0])\n",
    "    exp = 1.0\n",
    "    assert_equal(obs, exp)\n",
    "\n",
    "def test_std2():\n",
    "    # Test the fiducial case when we pass in an empty list.\n",
    "    obs = std([])\n",
    "    exp = 0.0\n",
    "    assert_equal(obs, exp)\n",
    "\n",
    "def test_std3():\n",
    "    # Test a real case where the answer is not one.\n",
    "    obs = std([0.0, 4.0])\n",
    "    exp = 2.0\n",
    "    assert_equal(obs, exp)\n",
    "```"
   ]
  },
  {
   "cell_type": "markdown",
   "metadata": {
    "slideshow": {
     "slide_type": "slide"
    }
   },
   "source": [
    "A simple function implementation that would make these tests pass could be as follows:\n",
    "```python\n",
    "def std(vals):\n",
    "    # a little better\n",
    "    if len(vals) == 0: # Special case the empty list.\n",
    "        return 0.0\n",
    "    return vals[-1] / 2.0 # By being clever, we can get away without doing real work.\n",
    "```"
   ]
  },
  {
   "cell_type": "markdown",
   "metadata": {
    "slideshow": {
     "slide_type": "slide"
    }
   },
   "source": [
    "Are we done? No. Of course not. Even though the tests all pass, this is clearly still not a generic standard deviation function. To create a better implementation, TDD states that we again need to expand the test suite:\n",
    "```python\n",
    "def test_std1():\n",
    "    obs = std([0.0, 2.0])\n",
    "    exp = 1.0\n",
    "    assert_equal(obs, exp)\n",
    "\n",
    "def test_std2():\n",
    "    obs = std([])\n",
    "    exp = 0.0\n",
    "    assert_equal(obs, exp)\n",
    "\n",
    "def test_std3():\n",
    "    obs = std([0.0, 4.0])\n",
    "    exp = 2.0\n",
    "    assert_equal(obs, exp)\n",
    "\n",
    "def test_std4():\n",
    "    # The first value is not zero.\n",
    "    obs = std([1.0, 3.0])\n",
    "    exp = 1.0\n",
    "    assert_equal(obs, exp)\n",
    "\n",
    "def test_std5():\n",
    "    # Here, we have more than two values, but all of the values are the same.\n",
    "    obs = std([1.0, 1.0, 1.0])\n",
    "    exp = 0.0\n",
    "    assert_equal(obs, exp)\n",
    "```"
   ]
  },
  {
   "cell_type": "markdown",
   "metadata": {
    "slideshow": {
     "slide_type": "slide"
    }
   },
   "source": [
    "At this point, we may as well try to implement a generic standard deviation function. Recall:\n",
    "\n",
    "$$\n",
    "\\sigma = \\sqrt{ \\frac{\\sum_{\\mathrm{i}} (x_{\\mathrm{i}} - \\bar{x})^2 }{N}},\n",
    "$$\n",
    "\n",
    "where $\\sigma$ is the standard deviation, $x_{\\mathrm{i}}$ are the values in the sample data, $\\bar{x}$ is the mean of the values and $N$ is the numver of values."
   ]
  },
  {
   "cell_type": "markdown",
   "metadata": {
    "slideshow": {
     "slide_type": "slide"
    }
   },
   "source": [
    "We would spend more time trying to come up with clever approximations to the standard deviation than we would spend actually coding it.\n",
    "\n",
    "1. Copy the five tests above into a file called `test_std.py`\n",
    "2. Open `mod.py`\n",
    "3. Add an implementation that actually calculates a standard deviation.\n",
    "4. Run the tests above. Did they pass?\n",
    "\n",
    "It is important to note that we could improve this function by writing further tests. For example, this `std()` ignores the situation where infinity is an element of the values list. There is always more that can be tested. TDD prevents you from going overboard by telling you to stop testing when you have achieved all of your use cases."
   ]
  },
  {
   "cell_type": "markdown",
   "metadata": {
    "slideshow": {
     "slide_type": "slide"
    }
   },
   "source": [
    "## Key Points\n",
    "- Test driven development is a common software development technique\n",
    "- By writing the tests first, the function requirements are very explicit\n",
    "- TDD is not for everyone\n",
    "- TDD requires vigilance for success"
   ]
  }
 ],
 "metadata": {
  "celltoolbar": "Slideshow",
  "kernelspec": {
   "display_name": "Python 3",
   "language": "python",
   "name": "python3"
  },
  "language_info": {
   "codemirror_mode": {
    "name": "ipython",
    "version": 3
   },
   "file_extension": ".py",
   "mimetype": "text/x-python",
   "name": "python",
   "nbconvert_exporter": "python",
   "pygments_lexer": "ipython3",
   "version": "3.7.3"
  }
 },
 "nbformat": 4,
 "nbformat_minor": 2
}
