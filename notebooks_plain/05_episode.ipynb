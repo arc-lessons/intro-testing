{
 "cells": [
  {
   "cell_type": "markdown",
   "metadata": {
    "slideshow": {
     "slide_type": "slide"
    }
   },
   "source": [
    "# Exceptional Defensive Programming"
   ]
  },
  {
   "cell_type": "markdown",
   "metadata": {
    "slideshow": {
     "slide_type": "slide"
    }
   },
   "source": [
    "## Overview\n",
    "- **Teaching:** 10 min\n",
    "- **Exercises:** 5 min\n",
    "\n",
    "**Questions**\n",
    "- How do I handle unusual behavior while the code runs?\n",
    "\n",
    "**Objectives**\n",
    "- Understand that exceptions are effectively specialized runtime tests\n",
    "- Learn when to use exceptions and what exceptions are available"
   ]
  },
  {
   "cell_type": "markdown",
   "metadata": {
    "slideshow": {
     "slide_type": "slide"
    }
   },
   "source": [
    "Exceptions are more sophisticated than assertions. They are the standard error messaging system in most modern programming languages. Fundamentally, when an error is encountered, an informative exception is ‘thrown’ or ‘raised’.\n",
    "\n",
    "For example, instead of the assertion in the case before, an exception can be used. Add the following function to your `mean.py` script:\n",
    "\n",
    "```python\n",
    "def mean_exc(num_list):\n",
    "    if len(num_list) == 0 :\n",
    "        raise Exception(\"The arithmetic mean of an empty list is undefined.\\\n",
    "                         Please provide a list of numbers\")\n",
    "    else :\n",
    "        return sum(num_list)/len(num_list)\n",
    "```"
   ]
  },
  {
   "cell_type": "markdown",
   "metadata": {
    "slideshow": {
     "slide_type": "subslide"
    }
   },
   "source": [
    "Now import the library in ipython3 and examine its behaviour by creating an empty list and calling the new function.\n",
    "\n",
    "```python\n",
    "In [1]: from mean import *\n",
    "\n",
    "In [2]: nonumbers = []\n",
    "\n",
    "In [3]: mean_exc(nonumbers)\n",
    "```\n",
    "\n",
    "Your output should look something like:\n",
    "```bash\n",
    "---------------------------------------------------------------------------\n",
    "Exception                                 Traceback (most recent call last)\n",
    "<ipython-input-3-ffe1be2cdd57> in <module>()\n",
    "----> 1 mean_exc(nonumbers)\n",
    "\n",
    "/u/q/rjg20/intro-testing/my_testing/mean.py in mean_exc(num_list)\n",
    "     15     if len(num_list) == 0 :\n",
    "     16       raise Exception(\"The arithmetic mean of an empty list is undefined.\\\n",
    "---> 17                        Please provide a list of numbers\")\n",
    "     18     else :\n",
    "     19       return sum(num_list)/len(num_list)\n",
    "\n",
    "Exception: The algebraic mean of an empty list is undefined.                       \n",
    "Please provide a list of numbers\n",
    "```"
   ]
  },
  {
   "cell_type": "markdown",
   "metadata": {
    "slideshow": {
     "slide_type": "slide"
    }
   },
   "source": [
    "## Pin: Raising an Exception\n",
    "Once an exception is raised, it will be passed upward in the program scope. An exception be used to trigger additional error messages or an alternative behavior. Note that rather than simply specifying ‘AssertionError’ (compare with your original function `mean(nonumbers)`) we now provide a meaningful error message to the user."
   ]
  },
  {
   "cell_type": "markdown",
   "metadata": {
    "slideshow": {
     "slide_type": "slide"
    }
   },
   "source": [
    "## There is `try` afterall\n",
    "\n",
    "If we are confident in the behaviour of our code, rather than immediately halting code execution, the exception can be ‘caught’ upstream with a try-except block. When wrapped in a try-except block, the exception can be intercepted before it reaches global scope and halts execution.\n",
    "\n",
    "To add information or replace the message before it is passed upstream, the try-catch block can be used to catch-and-reraise the exception:\n",
    "```python\n",
    "def mean_try(num_list):\n",
    "    try:\n",
    "        return sum(num_list)/len(num_list)\n",
    "    except ZeroDivisionError as detail :\n",
    "        msg = \"The arithmetic mean of an empty list is undefined. Please provide a list of numbers.\"\n",
    "        raise ZeroDivisionError(detail.__str__() + \"\\n\" +  msg)\n",
    "```"
   ]
  },
  {
   "cell_type": "markdown",
   "metadata": {
    "slideshow": {
     "slide_type": "slide"
    }
   },
   "source": [
    "Alternatively, the exception can simply be handled intelligently. If an alternative behavior is preferred, the exception can be disregarded and a responsive behavior can be implemented like so:\n",
    "\n",
    "```python\n",
    "def mean_try_again(num_list):\n",
    "    try:\n",
    "        return sum(num_list)/len(num_list)\n",
    "    except ZeroDivisionError :\n",
    "        return 0\n",
    "```\n",
    "\n",
    "How does this new function treat an empty list?  Note however that this may not be the behaviour we want. If the list is empty then it may be that we don’t want the mean to be defined."
   ]
  },
  {
   "cell_type": "markdown",
   "metadata": {
    "slideshow": {
     "slide_type": "slide"
    }
   },
   "source": [
    "If a single function might raise more than one type of exception, each can be caught and handled separately. Modify your new function to include a second exception case:\n",
    "\n",
    "```python\n",
    "def mean_try_again(num_list):\n",
    "    try:\n",
    "        return sum(num_list)/len(num_list)\n",
    "    except ZeroDivisionError :\n",
    "        return 0\n",
    "    except TypeError as detail :\n",
    "        msg = \"The arithmetic mean of an non-numerical list is undefined.\\\n",
    "               Please provide a list of numbers.\"\n",
    "        raise TypeError(detail.__str__() + \"\\n\" +  msg)\n",
    "```\n",
    "\n",
    "Beware however that handling exceptions 'intelligently' requires us to have confidence in the behaviour of our code and users. It also requires us to identify each possible type of `Exception`, whereas in the earlier cases we handle these and provide a meaningful message by default. We will see later with so-called 'edge' and 'corner' cases that exceptions could be raised in many ways beyond our ability to identify them.\n"
   ]
  },
  {
   "cell_type": "markdown",
   "metadata": {
    "slideshow": {
     "slide_type": "subslide"
    }
   },
   "source": [
    "## Pin: What else could go wrong?\n",
    "\n",
    "1. Think of some other type of exception that could be raised by the try block.\n",
    "2. Guard against it by adding an except clause.\n",
    "3. Use the mean function in three different ways, so that you cause each exceptional case.\n",
    "\n",
    "Exceptions have the advantage of being simple to include and powerfully helpful to the user. However, not all behaviors can or should be found with runtime exceptions. Most behaviors should be validated with unit tests."
   ]
  },
  {
   "cell_type": "markdown",
   "metadata": {
    "slideshow": {
     "slide_type": "slide"
    }
   },
   "source": [
    "## Key Points\n",
    "- Exceptions are effectively specialized runtime tests\n",
    "- Exceptions can be caught and handled with a try-except block\n",
    "- Many built-in Exception types are available"
   ]
  }
 ],
 "metadata": {
  "celltoolbar": "Slideshow",
  "kernelspec": {
   "display_name": "Python 3",
   "language": "python",
   "name": "python3"
  },
  "language_info": {
   "codemirror_mode": {
    "name": "ipython",
    "version": 3
   },
   "file_extension": ".py",
   "mimetype": "text/x-python",
   "name": "python",
   "nbconvert_exporter": "python",
   "pygments_lexer": "ipython3",
   "version": "3.7.3"
  }
 },
 "nbformat": 4,
 "nbformat_minor": 2
}
